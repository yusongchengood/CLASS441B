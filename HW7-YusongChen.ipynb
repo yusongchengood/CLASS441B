{
 "cells": [
  {
   "cell_type": "markdown",
   "metadata": {},
   "source": [
    "## 441B - HW7\n",
    "## Yusong Chen \n",
    "## 306315484"
   ]
  },
  {
   "cell_type": "code",
   "execution_count": 68,
   "metadata": {
    "id": "Q2A8TGhKm3i5"
   },
   "outputs": [],
   "source": [
    "import openai\n",
    "import os\n",
    "import wikipedia"
   ]
  },
  {
   "cell_type": "markdown",
   "metadata": {
    "id": "7E9HEMJSX-3T"
   },
   "source": [
    "# 1.) Set up OpenAI and the enviornment\n"
   ]
  },
  {
   "cell_type": "code",
   "execution_count": 69,
   "metadata": {
    "id": "4zwwdkZDYDZN"
   },
   "outputs": [],
   "source": [
    "# DONE"
   ]
  },
  {
   "cell_type": "code",
   "execution_count": 90,
   "metadata": {
    "id": "8IiKS0snlpYP"
   },
   "outputs": [],
   "source": [
    "openai.api_key = ''"
   ]
  },
  {
   "cell_type": "code",
   "execution_count": 91,
   "metadata": {},
   "outputs": [],
   "source": [
    "client = openai.OpenAI(\n",
    "    api_key = openai.api_key \n",
    ")"
   ]
  },
  {
   "cell_type": "markdown",
   "metadata": {
    "id": "tOXc5_BTm9HP"
   },
   "source": [
    "# 2.) Use the wikipedia api to get a function that pulls in the text of a wikipedia page"
   ]
  },
  {
   "cell_type": "code",
   "execution_count": 92,
   "metadata": {
    "id": "-v7OYamHlrEB"
   },
   "outputs": [],
   "source": [
    "# dir(wikipedia)\n"
   ]
  },
  {
   "cell_type": "code",
   "execution_count": 93,
   "metadata": {},
   "outputs": [],
   "source": [
    "page_titles = [\"Artificial Intelligence\",\"Machine Learning\"]\n",
    "page_title = page_titles[0]"
   ]
  },
  {
   "cell_type": "code",
   "execution_count": 94,
   "metadata": {
    "id": "TgY2FkTdmhTH"
   },
   "outputs": [],
   "source": [
    "search_results = wikipedia.search(page_title)"
   ]
  },
  {
   "cell_type": "code",
   "execution_count": 95,
   "metadata": {
    "id": "Kw5H5jMlmmS3"
   },
   "outputs": [],
   "source": [
    "search_results\n",
    "search_results[0]\n",
    "page = wikipedia.page(search_results[0]) # wikipedia page object"
   ]
  },
  {
   "cell_type": "code",
   "execution_count": 96,
   "metadata": {
    "id": "ZF3BiZyXltYO"
   },
   "outputs": [],
   "source": [
    "# page.content"
   ]
  },
  {
   "cell_type": "code",
   "execution_count": 97,
   "metadata": {
    "id": "Ef7yfa2jl0iZ"
   },
   "outputs": [],
   "source": [
    "def get_wikipedia_content(page_title):\n",
    "    search_results = wikipedia.search(page_title)\n",
    "    page = wikipedia.page(search_results[0])\n",
    "    return(page.content)"
   ]
  },
  {
   "cell_type": "markdown",
   "metadata": {
    "id": "_9aruncMmubX"
   },
   "source": [
    "# 3.) Build a chatgpt bot that will analyze the text given and try to locate any false info"
   ]
  },
  {
   "cell_type": "code",
   "execution_count": 98,
   "metadata": {},
   "outputs": [],
   "source": [
    "wiki_content = get_wikipedia_content(page_title)"
   ]
  },
  {
   "cell_type": "code",
   "execution_count": 102,
   "metadata": {
    "id": "Bmai3B6Dmw3O"
   },
   "outputs": [],
   "source": [
    "chat_completion = client.chat.completions.create(\n",
    "    model = \"gpt-4\", \n",
    "    messages = [{\"role\":\"system\",\"content\" : \"I will be giving you an article, let me know if anything is flase in this article. If there is errors please number them and be very concise when quoting them, please stay low sensitive and try you best to find the error.If there is no errors found then just return 'None' \"},\n",
    "               {\"role\":\"user\",\"content\" : wiki_content[:8192]}]\n",
    ")"
   ]
  },
  {
   "cell_type": "code",
   "execution_count": 103,
   "metadata": {
    "id": "1jI-un5PnDjg"
   },
   "outputs": [
    {
     "name": "stdout",
     "output_type": "stream",
     "text": [
      "1. \"Alan Turing was the first person to conduct substantial research in the field that he called machine intelligence.\" - This is false. While Alan Turing was a pioneer in the field of artificial intelligence, calling him the 'first person' may not be accurate since AI, as a concept, had intuitive precursors, and similar thoughts were shared simultaneously by other researchers.  \n",
      "\n",
      "2. \"Artificial intelligence was founded as an academic discipline in 1956.\" - Artificial Intelligence as a term was coined in 1956 at the Dartmouth Conference, but work that would come under the umbrella of AI had been going on before this date.\n",
      "\n",
      "3. \"This led to the AI spring of the early 2020s, with companies, universities, and laboratories overwhelmingly based in the United States pioneering significant advances in artificial intelligence.\" - This implies that significant AI advances were exclusively or majorly from the United States. However, significant contributions have also come from other regions such as Europe, Canada, and Asia.\n",
      "\n",
      "4. \"Knowledge bases need to represent things such as: objects, properties, categories and relations between objects; situations, events, states and time; causes and effects;...\" - The list is not framed accurately. The concepts mentioned (such as objects, properties, situations etc.) do not factually represent the scope of what knowledge bases need to entail. They should rather be considered as examples.\n",
      " \n",
      "5. \"A Markov decision process has a transition model that describes the probability that a particular action will change the state in a particular way, and a reward function that supplies the utility of each state and the cost of each action.\" - While the description of the transition model in a Markov Decision Process (MDP) is correct, the reward function in an MDP does not supply the utility of each state or the cost of each action. Instead, it provides an immediate reward for each state-action pair.\n"
     ]
    }
   ],
   "source": [
    "print(chat_completion.choices[0].message.content)"
   ]
  },
  {
   "cell_type": "code",
   "execution_count": 144,
   "metadata": {
    "id": "_TMKFGN4nDJ4"
   },
   "outputs": [],
   "source": [
    "def chatgpt_error_correction(text):\n",
    "    chat_completion = client.chat.completions.create(\n",
    "    model = \"gpt-4\", \n",
    "    messages = [{\"role\":\"system\",\"content\" : \"I will be giving you an article, let me know if anything is flase in this article. If there is errors please number them and be very concise when quoting them, please stay low sensitive and try you best to find the error, at least find one.If there is no errors found then just return 'None' \"},\n",
    "               {\"role\":\"user\",\"content\" : text[:8192]}]\n",
    ")\n",
    "    return chat_completion.choices[0].message.content"
   ]
  },
  {
   "cell_type": "markdown",
   "metadata": {
    "id": "zPw5LyPEobmk"
   },
   "source": [
    "# 4.) Make a for loop and check a few wikipedia pages and return a report of any potentially false info via wikipedia"
   ]
  },
  {
   "cell_type": "code",
   "execution_count": 145,
   "metadata": {
    "id": "V7cuhML2ocGn"
   },
   "outputs": [],
   "source": [
    "page_titles = [\"Artificial Intelligence\",\"Machine learning\",\"UCLA\"]"
   ]
  },
  {
   "cell_type": "code",
   "execution_count": 152,
   "metadata": {},
   "outputs": [],
   "source": [
    "#def split_text(text,chucks_size):\n",
    "#    chunks = len(text)//8180 + 1 \n",
    "#    return(text[i* chunks_size : (i+1)* chunks_size] for i in range(0,chunks - 1) )"
   ]
  },
  {
   "cell_type": "code",
   "execution_count": 155,
   "metadata": {},
   "outputs": [
    {
     "name": "stdout",
     "output_type": "stream",
     "text": [
      "_____Artificial Intelligence\n",
      "1. \"Alan Turing was the first person to conduct substantial research in the field that he called machine intelligence.\" - This is incorrect as there were other pioneers involved in the development of the field before Alan Turing, such as Warren McCulloch and Walter Pitts in their work on artificial neural networks in 1943.\n",
      "\n",
      "2. \"The field went through multiple cycles of optimism, followed by periods of disappointment and loss of funding, known as AI winter.\" - This is misleading. The term \"AI winter\" typically refers to periods of reduced funding and interest in artificial intelligence research, but it does not necessarily imply cycles of optimism followed by disappointment. The causes of AI winters are complex and multifaceted, involving factors such as overhyping of AI capabilities, economic recessions, critical reportings and other elements that lead to reduced interest and investment in AI. \n",
      "\n",
      "3. \"The growing use of artificial intelligence in the 21st century is influencing a societal and economic shift towards increased automation, data-driven decision-making, and the integration of AI systems into various areas of life, impacting job markets, healthcare, government, industry, and education.\" - This is a factually true statement about the use and impact of AI, but it's worth mentioning that this impact is not uniformly positive or beneficial. There are ongoing debates about the potential negative consequences of AI, such as job displacement due to automation, biases in AI systems, and privacy concerns. \n",
      "\n",
      "4. \"A Markov decision process has a transition model that describes the probability that a particular action will change the state in a particular way, and a reward function that supplies the utility of each state and the cost of each action.\" - This definition is partially incorrect. A Markov decision process (MDP) does indeed involve a transition model and a reward function but the reward function does not supply the cost of each action; it assigns a reward (positive or negative) to each state-action pair. The cost of an action would typically be considered within the framework of the MDP via the incorporation of negative rewards or by specifically modeling costs. \n",
      "\n",
      "5. \"Machine learning is the study of programs that can improve their performance on a given task automatically.\" - This is a simplification of what machine learning encompasses. It's not just about improving performance on a task but involves designing and understanding algorithms that allow computers to learn from and make decisions or predictions based on data.\n",
      "_____Machine learning\n",
      "ERROR\n",
      "_____UCLA\n",
      "1. \"Its academic roots were established in 1881 as a normal school then known as the southern branch of the California State Normal School which later evolved into San José State University.\" - This statement is incorrect. The southern branch of the California State Normal School did not evolve into San José State University; it evolved into UCLA. San José State University was originally the California State Normal School before it was renamed.\n",
      "\n",
      "2. \"UCLA offers 337 undergraduate and graduate degree programs.\" - This claim seems to be outdated. According to UCLA's official website, the university currently offers 125+ undergraduate majors and 150+ graduate degree programs.\n",
      "\n",
      "3. \"It received 174,914 undergraduate applications for Fall 2022.\" - This statement cannot be verified as the application data for Fall 2022 is not yet available or publicly released by UCLA.\n",
      "\n",
      "4. \"Six of the schools offer undergraduate degree programs: Arts and Architecture, Engineering and Applied Science, Music, Nursing, Public Affairs, and Theater, Film and Television.\" - This statement is incorrect because the School of Public Affairs does not offer undergraduate degrees.\n",
      "\n",
      "5. \"UCLA student-athletes compete as the Bruins in the Pac-12 Conference. They have won 121 NCAA team championships.\" - This is false. According to UCLA's official website, as of 2022, UCLA athletes have won 119 NCAA team championships.\n",
      "\n",
      "6. \"The Regents announced the new \"Beverly Site\" — just west of Beverly Hills — in 1925.\" - This is false. The new campus site was not in Beverly Hills, but in an area that would become Westwood.\n",
      "\n",
      "7. \"The original four buildings were the College Library (now Powell Library), Royce Hall, the Physics-Biology Building (which became the Humanities Building and is now the Renee and David Kaplan Hall), and the Chemistry Building (now Haines Hall), arrayed around a quadrangular courtyard on the 400 acre (1.6 km2) campus.\" - This statement is incorrect. The original four buildings on the UCLA campus were the College Library (now known as Powell Library), Royce Hall, Haines Hall (then known as the Chemistry Building), and the Physics-Biology Building. Kaplan Hall was not one of the original buildings. \n",
      "\n",
      "8. \"UCLA was permitted to award the master's degree in 1933, and the doctorate in 1936, against continued resistance from UC Berkeley.\" - This statement couldn't be verified. UCLA is an autonomous institution within the University of California system. Opposition from UC Berkeley would not affect UCLA's ability to award graduate degrees.\n",
      "\n"
     ]
    }
   ],
   "source": [
    "for page_title in page_titles:\n",
    "    print(\"_____\" + page_title)\n",
    "    try:\n",
    "        text = get_wikipedia_content(page_title) \n",
    "        print(chatgpt_error_correction(text))\n",
    "    except:\n",
    "        print(\"ERROR\")"
   ]
  }
 ],
 "metadata": {
  "colab": {
   "provenance": []
  },
  "kernelspec": {
   "display_name": "Python 3 (ipykernel)",
   "language": "python",
   "name": "python3"
  },
  "language_info": {
   "codemirror_mode": {
    "name": "ipython",
    "version": 3
   },
   "file_extension": ".py",
   "mimetype": "text/x-python",
   "name": "python",
   "nbconvert_exporter": "python",
   "pygments_lexer": "ipython3",
   "version": "3.11.5"
  }
 },
 "nbformat": 4,
 "nbformat_minor": 1
}
